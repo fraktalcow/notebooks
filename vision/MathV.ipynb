{
 "cells": [
  {
   "cell_type": "code",
   "execution_count": 2,
   "id": "3c5686ab-99da-4de9-aa85-79da4180c713",
   "metadata": {},
   "outputs": [],
   "source": [
    "from tinygrad.tensor import Tensor\n",
    "from tinygrad.nn import Embedding\n",
    "from datasets import load_dataset\n",
    "import numpy as np\n",
    "import pandas as pd\n",
    "from sklearn.cluster import KMeans\n",
    "import matplotlib.pyplot as plt\n"
   ]
  },
  {
   "cell_type": "code",
   "execution_count": 3,
   "id": "a70a34e2-9b71-4c01-a6f7-bf9115430946",
   "metadata": {},
   "outputs": [
    {
     "ename": "KeyError",
     "evalue": "'train'",
     "output_type": "error",
     "traceback": [
      "\u001b[1;31m-------------------------------------------------------------\u001b[0m",
      "\u001b[1;31mKeyError\u001b[0m                    Traceback (most recent call last)",
      "Cell \u001b[1;32mIn[3], line 5\u001b[0m\n\u001b[0;32m      2\u001b[0m dataset \u001b[38;5;241m=\u001b[39m load_dataset(\u001b[38;5;124m\"\u001b[39m\u001b[38;5;124mMathLLMs/MathVision\u001b[39m\u001b[38;5;124m\"\u001b[39m)\n\u001b[0;32m      4\u001b[0m \u001b[38;5;66;03m# Example: Focusing on specific fields in the dataset (e.g., text, labels)\u001b[39;00m\n\u001b[1;32m----> 5\u001b[0m df \u001b[38;5;241m=\u001b[39m pd\u001b[38;5;241m.\u001b[39mDataFrame(\u001b[43mdataset\u001b[49m\u001b[43m[\u001b[49m\u001b[38;5;124;43m'\u001b[39;49m\u001b[38;5;124;43mtrain\u001b[39;49m\u001b[38;5;124;43m'\u001b[39;49m\u001b[43m]\u001b[49m)  \u001b[38;5;66;03m# Assuming 'train' is the split\u001b[39;00m\n\u001b[0;32m      6\u001b[0m text_data \u001b[38;5;241m=\u001b[39m df[\u001b[38;5;124m'\u001b[39m\u001b[38;5;124mtext\u001b[39m\u001b[38;5;124m'\u001b[39m]\u001b[38;5;241m.\u001b[39mtolist()\n\u001b[0;32m      8\u001b[0m \u001b[38;5;66;03m# Tokenization and processing\u001b[39;00m\n",
      "File \u001b[1;32m~\\AppData\\Local\\Programs\\Python\\Python312\\Lib\\site-packages\\datasets\\dataset_dict.py:72\u001b[0m, in \u001b[0;36mDatasetDict.__getitem__\u001b[1;34m(self, k)\u001b[0m\n\u001b[0;32m     70\u001b[0m \u001b[38;5;28;01mdef\u001b[39;00m \u001b[38;5;21m__getitem__\u001b[39m(\u001b[38;5;28mself\u001b[39m, k) \u001b[38;5;241m-\u001b[39m\u001b[38;5;241m>\u001b[39m Dataset:\n\u001b[0;32m     71\u001b[0m     \u001b[38;5;28;01mif\u001b[39;00m \u001b[38;5;28misinstance\u001b[39m(k, (\u001b[38;5;28mstr\u001b[39m, NamedSplit)) \u001b[38;5;129;01mor\u001b[39;00m \u001b[38;5;28mlen\u001b[39m(\u001b[38;5;28mself\u001b[39m) \u001b[38;5;241m==\u001b[39m \u001b[38;5;241m0\u001b[39m:\n\u001b[1;32m---> 72\u001b[0m         \u001b[38;5;28;01mreturn\u001b[39;00m \u001b[38;5;28;43msuper\u001b[39;49m\u001b[43m(\u001b[49m\u001b[43m)\u001b[49m\u001b[38;5;241;43m.\u001b[39;49m\u001b[38;5;21;43m__getitem__\u001b[39;49m\u001b[43m(\u001b[49m\u001b[43mk\u001b[49m\u001b[43m)\u001b[49m\n\u001b[0;32m     73\u001b[0m     \u001b[38;5;28;01melse\u001b[39;00m:\n\u001b[0;32m     74\u001b[0m         available_suggested_splits \u001b[38;5;241m=\u001b[39m [\n\u001b[0;32m     75\u001b[0m             split \u001b[38;5;28;01mfor\u001b[39;00m split \u001b[38;5;129;01min\u001b[39;00m (Split\u001b[38;5;241m.\u001b[39mTRAIN, Split\u001b[38;5;241m.\u001b[39mTEST, Split\u001b[38;5;241m.\u001b[39mVALIDATION) \u001b[38;5;28;01mif\u001b[39;00m split \u001b[38;5;129;01min\u001b[39;00m \u001b[38;5;28mself\u001b[39m\n\u001b[0;32m     76\u001b[0m         ]\n",
      "\u001b[1;31mKeyError\u001b[0m: 'train'"
     ]
    }
   ],
   "source": [
    "# Load the dataset\n",
    "dataset = load_dataset(\"MathLLMs/MathVision\")\n",
    "\n",
    "# Example: Focusing on specific fields in the dataset (e.g., text, labels)\n",
    "df = pd.DataFrame(dataset['train'])  # Assuming 'train' is the split\n",
    "text_data = df['text'].tolist()\n",
    "\n",
    "# Tokenization and processing\n",
    "def tokenize_text(text_list):\n",
    "    return [list(map(ord, text)) for text in text_list]  # Tokenizing text as character ordinals\n",
    "\n",
    "tokens = tokenize_text(text_data)\n",
    "max_length = max(len(seq) for seq in tokens)\n"
   ]
  },
  {
   "cell_type": "code",
   "execution_count": null,
   "id": "5475c24f-ede7-47b7-ac22-ef70ce1c885b",
   "metadata": {},
   "outputs": [],
   "source": [
    "def pad_sequence(seq, max_len):\n",
    "    return seq + [0] * (max_len - len(seq))\n",
    "\n",
    "padded_tokens = [pad_sequence(seq, max_length) for seq in tokens]\n",
    "token_tensor = Tensor(np.array(padded_tokens, dtype=np.float32))\n"
   ]
  },
  {
   "cell_type": "code",
   "execution_count": null,
   "id": "c1ae425a-43f1-432e-8e64-f9247087252e",
   "metadata": {},
   "outputs": [],
   "source": [
    "class SimpleModel:\n",
    "    def __init__(self, vocab_size, embed_dim):\n",
    "        self.embedding = Embedding(vocab_size, embed_dim)\n",
    "\n",
    "    def forward(self, x):\n",
    "        return self.embedding(x)\n",
    "\n",
    "# Assume the vocabulary size based on tokenization\n",
    "vocab_size = 128  # Example for ASCII character set\n",
    "embed_dim = 50  # Embedding dimensionality\n",
    "model = SimpleModel(vocab_size, embed_dim)\n",
    "\n",
    "# Pass token tensor through the embedding layer\n",
    "embedded_data = model.forward(token_tensor)\n"
   ]
  },
  {
   "cell_type": "code",
   "execution_count": null,
   "id": "ca6e00fb-fd53-40a8-8de7-be5921344ddb",
   "metadata": {},
   "outputs": [],
   "source": [
    "# Extracting embeddings as feature vectors\n",
    "features = embedded_data.data  # raw embedding vectors from TinyGrad Tensor\n",
    "\n",
    "# Reducing the dimensionality for visualization using PCA\n",
    "from sklearn.decomposition import PCA\n",
    "\n",
    "pca = PCA(n_components=2)\n",
    "reduced_features = pca.fit_transform(features)\n"
   ]
  },
  {
   "cell_type": "code",
   "execution_count": null,
   "id": "b103202c-e58b-47d7-aba5-cb848358873c",
   "metadata": {},
   "outputs": [],
   "source": [
    "# Applying KMeans clustering\n",
    "kmeans = KMeans(n_clusters=5)  # Choose number of clusters based on the problem domain\n",
    "kmeans.fit(reduced_features)\n",
    "\n",
    "# Add cluster labels to the data\n",
    "df['cluster'] = kmeans.labels_\n"
   ]
  },
  {
   "cell_type": "code",
   "execution_count": null,
   "id": "5109dd7a-c7cc-4a72-b574-e2ccf9f0520e",
   "metadata": {},
   "outputs": [],
   "source": [
    "plt.scatter(reduced_features[:, 0], reduced_features[:, 1], c=kmeans.labels_, cmap='viridis')\n",
    "plt.title('Clustered Representation of Embedded Data')\n",
    "plt.xlabel('PCA Component 1')\n",
    "plt.ylabel('PCA Component 2')\n",
    "plt.show()\n"
   ]
  },
  {
   "cell_type": "code",
   "execution_count": null,
   "id": "86c87c93-f12a-4a7d-a215-be6f073619f8",
   "metadata": {},
   "outputs": [],
   "source": [
    "def train_step(model, data, target, optimizer):\n",
    "    out = model.forward(data)\n",
    "    loss = ((out - target) ** 2).mean()  # Simple MSE loss for this example\n",
    "    optimizer.zero_grad()\n",
    "    loss.backward()\n",
    "    optimizer.step()\n",
    "    return loss\n",
    "\n",
    "# Simple gradient descent optimizer for demonstration\n",
    "from tinygrad.nn.optim import SGD\n",
    "\n",
    "optimizer = SGD([model.embedding.weight], lr=0.001)\n",
    "\n",
    "# Training loop\n",
    "epochs = 10\n",
    "for epoch in range(epochs):\n",
    "    loss = train_step(model, token_tensor, target=token_tensor, optimizer=optimizer)\n",
    "    print(f\"Epoch {epoch+1}, Loss: {loss}\")\n"
   ]
  }
 ],
 "metadata": {
  "kernelspec": {
   "display_name": "Python 3 (ipykernel)",
   "language": "python",
   "name": "python3"
  },
  "language_info": {
   "codemirror_mode": {
    "name": "ipython",
    "version": 3
   },
   "file_extension": ".py",
   "mimetype": "text/x-python",
   "name": "python",
   "nbconvert_exporter": "python",
   "pygments_lexer": "ipython3",
   "version": "3.12.7"
  }
 },
 "nbformat": 4,
 "nbformat_minor": 5
}
